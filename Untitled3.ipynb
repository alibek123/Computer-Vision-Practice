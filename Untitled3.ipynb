{
 "cells": [
  {
   "cell_type": "code",
   "execution_count": null,
   "metadata": {},
   "outputs": [
    {
     "name": "stderr",
     "output_type": "stream",
     "text": [
      "Exception in Tkinter callback\n",
      "Traceback (most recent call last):\n",
      "  File \"C:\\Users\\zhuma\\Anaconda3\\lib\\tkinter\\__init__.py\", line 1705, in __call__\n",
      "    return self.func(*args)\n",
      "  File \"<ipython-input-2-bbd2032bacb8>\", line 20, in addApp\n",
      "    drawFeatures(filename)\n",
      "  File \"<ipython-input-2-bbd2032bacb8>\", line 36, in drawFeatures\n",
      "    sift = cv2.xfeatures2d.SIFT_create()\n",
      "AttributeError: module 'cv2.cv2' has no attribute 'xfeatures2d'\n"
     ]
    }
   ],
   "source": [
    "import matplotlib.pyplot as plt\n",
    "import numpy as np\n",
    "import cv2\n",
    "import tkinter as tk\n",
    "from tkinter import filedialog\n",
    "\n",
    "root = tk.Tk()\n",
    "apps = []\n",
    "\n",
    "\n",
    "# Открыть файл\n",
    "def addApp():\n",
    "    filename = filedialog.askopenfilename(initialdir=\"/\", title=\"Select File\",\n",
    "                                          filetypes=((\"JPG\", \"*.jpg\"), (\"PNG\", \"*.png\"), (\"JPEG\", \"*.jpeg\")))\n",
    "    if filename != \"\":\n",
    "        apps.append(filename)\n",
    "        label1 = tk.Label(frame, text=apps, bg=\"gray\")\n",
    "        label1.pack()\n",
    "        drawEdges(filename)\n",
    "        drawFeatures(filename)\n",
    "\n",
    "\n",
    "def drawEdges(image):\n",
    "    img = cv2.imread(image)\n",
    "    # img = cv2.cvtColor(img, cv2.COLOR_BGR2RGB)\n",
    "    cv2.imshow(\"Your Photo\", img)\n",
    "    img = cv2.cvtColor(img, cv2.COLOR_RGB2GRAY)\n",
    "    img = cv2.Canny(img, 0, 200)\n",
    "    cv2.imshow(\"Edged photo\", img)\n",
    "\n",
    "\n",
    "def drawFeatures(image):\n",
    "    img = cv2.imread(image)\n",
    "    img = cv2.cvtColor(img, cv2.COLOR_RGB2GRAY)\n",
    "    minHessian = 400\n",
    "    sift = cv2.xfeatures2d.SIFT_create()\n",
    "    #detector = cv2.xfeatures2d_SURF.create(hessianThreshold=minHessian)\n",
    "    keypoints_sift, descriptors = sift.detectAndCompute(img, None)\n",
    "    img = cv2.drawKeypoints(img, keypoints, None)\n",
    "    #keypoints = detector.detect(img)\n",
    "    #img_keypoints = np.empty((img.shape[0], img.shape[1], 3), dtype=np.uint8)\n",
    "    #cv2.drawKeypoints(img, keypoints, img_keypoints)\n",
    "    cv2.imshow(\"Photo features\", img)\n",
    "\n",
    "\n",
    "# Синий экран\n",
    "canvas = tk.Canvas(root, height=300, width=300, bg=\"blue\")\n",
    "canvas.pack()\n",
    "# Белый экран\n",
    "frame = tk.Frame(root, bg=\"white\")\n",
    "frame.place(relwidth=0.8, relheight=0.8, relx=0.1, rely=0.1)\n",
    "# Label\n",
    "label = tk.Label(frame, text=\"Choose your photo\", fg=\"black\")\n",
    "label.pack()\n",
    "# Button\n",
    "openFile = tk.Button(root, text=\"Open File\", fg='white', bg=\"gray\", command=addApp)\n",
    "openFile.place(relx=0.4, rely=0.8)\n",
    "\n",
    "root.mainloop()\n"
   ]
  },
  {
   "cell_type": "code",
   "execution_count": null,
   "metadata": {},
   "outputs": [],
   "source": []
  }
 ],
 "metadata": {
  "kernelspec": {
   "display_name": "Python 3",
   "language": "python",
   "name": "python3"
  },
  "language_info": {
   "codemirror_mode": {
    "name": "ipython",
    "version": 3
   },
   "file_extension": ".py",
   "mimetype": "text/x-python",
   "name": "python",
   "nbconvert_exporter": "python",
   "pygments_lexer": "ipython3",
   "version": "3.7.4"
  }
 },
 "nbformat": 4,
 "nbformat_minor": 2
}
